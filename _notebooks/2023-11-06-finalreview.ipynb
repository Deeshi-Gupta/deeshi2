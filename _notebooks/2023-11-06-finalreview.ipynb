{
 "cells": [
  {
   "cell_type": "markdown",
   "metadata": {},
   "source": [
    "---\n",
    "toc: true\n",
    "comments: false\n",
    "layout: post\n",
    "title: Final Review \n",
    "description: Week 0-6 Progress.\n",
    "type: tangibles\n",
    "courses: { compsci: {week: 6} }\n",
    "---\n",
    "\n",
    "## Final Review\n",
    " Hi, welcome to my final review. for my personal final review I made the menu. Ill admit i didnt help as much in the main code, but the menu took me 2-3 days and it took a lot of effort to fix the errors and others. The code for the menu and the errors i faced will be below this, as well as the personal reflection, trimester reflection.\n",
    "\n",
    "    Personal Reflection: I overall liked this class alot. It gave me time to work on other things and helped further my knowledge about coding and what i already knew before. I was in cyberpatriot for 4 years and i learned a lot of linux commands which we used in this slightly. Although it didnt help a lot, it helped a bit and helped me. Commands that helped me were the basic terminal commands such as cd, ls, and things like that. I liked this trimester a lot also becuase it helped me by giving me slight prior knowledge about the code and this class. This class helped me work on my coding knowledge.\n",
    "    Trimester reflection: I liked this trimester a lot because as i mentioned before, it helped me expand my knowledge about code and writing files, writing games, and creating basic games like the snake game, the calculator, and the other hacks we did. I liked the snake game and calculator hack the most because they were the most interesting to me. I enjoyed helping my team making the game by giving ideas and other things to further the game. I did not help with the main game as much, but i what i could with the small things like making a menu. This was my favorite part because i got to do the part i wanted to and got to fix the errors i had. I intially was going to make a kirby sprite, i had it designed and everything, but i didnt get to finishing the code. I had it started, but ended up deleting it and moving on because it would've taken a while and we didnt have enough time for me to finish working on it. My menu was a success though. Code below!\n"
   ]
  }
 ],
 "metadata": {
  "kernelspec": {
   "display_name": "Python 3",
   "language": "python",
   "name": "python3"
  },
  "language_info": {
   "codemirror_mode": {
    "name": "ipython",
    "version": 3
   },
   "file_extension": ".py",
   "mimetype": "text/x-python",
   "name": "python",
   "nbconvert_exporter": "python",
   "pygments_lexer": "ipython3",
   "version": "3.10.12"
  },
  "orig_nbformat": 4
 },
 "nbformat": 4,
 "nbformat_minor": 2
}
