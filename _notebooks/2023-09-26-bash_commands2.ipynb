{
 "cells": [
  {
   "cell_type": "markdown",
   "metadata": {},
   "source": [
    "---\n",
    "toc: true\n",
    "comments: false\n",
    "layout: post\n",
    "title: Testing Bash Commands \n",
    "description: In here, I will play around with Bash Commands and expieriment with what they can do.\n",
    "type: hacks\n",
    "courses: { compsci: {week: 3} }\n",
    "---"
   ]
  },
  {
   "cell_type": "code",
   "execution_count": null,
   "metadata": {
    "vscode": {
     "languageId": "bat"
    }
   },
   "outputs": [],
   "source": [
    "%%bash\n",
    "\n",
    "locate — Locate a specific file or directory\n",
    "\n",
    "This is by far the simplest way to find a file or directory. You can keep your search broad if you don’t know what exactly it is you’re looking for, or you can narrow the scope by using wildcards or regular expressions.\n",
    "\n",
    "Syntax: locate [option(s)] file_name(s)\n",
    "\n",
    "Common options: -q, -n, -i\n",
    "\n",
    "mv — Move or rename directory\n",
    "\n",
    "mv is used to move or rename directories. Without this command, you would have to individually rename each file which is tedious. mv allows you to do batch file renaming which can save you loads of time.\n",
    "\n",
    "Syntax: mv [option(s)] argument(s)\n",
    "\n",
    "Common options: -i, -b"
   ]
  }
 ],
 "metadata": {
  "language_info": {
   "name": "python"
  },
  "orig_nbformat": 4
 },
 "nbformat": 4,
 "nbformat_minor": 2
}
